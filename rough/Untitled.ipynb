{
 "cells": [
  {
   "cell_type": "code",
   "execution_count": 1,
   "id": "4ac9d0fb",
   "metadata": {},
   "outputs": [],
   "source": [
    "import pandas as pd\n",
    "import numpy as np\n",
    "import pickle\n",
    "import streamlit as st\n",
    "from PIL import Image\n",
    "  "
   ]
  },
  {
   "cell_type": "code",
   "execution_count": 2,
   "id": "b7ae60b8",
   "metadata": {},
   "outputs": [],
   "source": [
    "# loading in the model to predict on the data\n",
    "pickle_in = open('regressor3.pkl', 'rb')\n",
    "classifier = pickle.load(pickle_in)\n",
    "  \n",
    "def welcome():\n",
    "    return 'welcome all'"
   ]
  },
  {
   "cell_type": "code",
   "execution_count": 3,
   "id": "da1068ec",
   "metadata": {},
   "outputs": [],
   "source": [
    "def prediction(Category,Accident_Type,Year,Month):  \n",
    "   \n",
    "    prediction = classifier.predict(\n",
    "        [[Category,Accident_Type,Year,Month]])\n",
    "    print(prediction)\n",
    "    return prediction\n",
    "      "
   ]
  },
  {
   "cell_type": "code",
   "execution_count": 4,
   "id": "1d4e9972",
   "metadata": {},
   "outputs": [
    {
     "name": "stderr",
     "output_type": "stream",
     "text": [
      "2022-11-24 06:44:13.224 \n",
      "  \u001b[33m\u001b[1mWarning:\u001b[0m to view this Streamlit app on a browser, run it with the following\n",
      "  command:\n",
      "\n",
      "    streamlit run /opt/anaconda3/lib/python3.9/site-packages/ipykernel_launcher.py [ARGUMENTS]\n"
     ]
    }
   ],
   "source": [
    "# this is the main function in which we define our webpage \n",
    "def main():\n",
    "      # giving the webpage a title\n",
    "    st.title(\"DPS CHALLENGE\")\n",
    "      \n",
    "    # here we define some of the front end elements of the web page like \n",
    "    # the font and background color, the padding and the text to be displayed\n",
    "    html_temp = \"\"\"\n",
    "    <div style =\"background-color:yellow;padding:13px\">\n",
    "    <h1 style =\"color:black;text-align:center;\">Streamlit DPS CHALLENGE ML App </h1>\n",
    "    </div>\n",
    "    \"\"\"\n",
    "      \n",
    "    # this line allows us to display the front end aspects we have \n",
    "    # defined in the above code\n",
    "    st.markdown(html_temp, unsafe_allow_html = True)\n",
    "    \n",
    "    \n",
    "    #Category,Accident_Type,Year,Month  \n",
    "    # the following lines create text boxes in which the user can enter \n",
    "    # the data required to make the prediction\n",
    "    Category = st.text_input(\"Category\", \"Type Here\")\n",
    "    Accident_Type = st.text_input(\"Accident_Type\", \"Type Here\")\n",
    "    Year = st.text_input(\"Year\", \"Type Here\")\n",
    "    Month = st.text_input(\"Petal Width\", \"Type Here\")\n",
    "    result =\"\"\n",
    "      \n",
    "    # the below line ensures that when the button called 'Predict' is clicked, \n",
    "    # the prediction function defined above is called to make the prediction \n",
    "    # and store it in the variable result\n",
    "    if st.button(\"Predict\"):\n",
    "        result = prediction(sepal_length, sepal_width, petal_length, petal_width)\n",
    "    st.success('The output is {}'.format(result))\n",
    "     \n",
    "if __name__=='__main__':\n",
    "    main()"
   ]
  },
  {
   "cell_type": "code",
   "execution_count": null,
   "id": "b454268b",
   "metadata": {},
   "outputs": [],
   "source": [
    "\n",
    "\n",
    "\n",
    "\n",
    "\n",
    "\n"
   ]
  },
  {
   "cell_type": "code",
   "execution_count": null,
   "id": "006693dd",
   "metadata": {},
   "outputs": [],
   "source": []
  },
  {
   "cell_type": "code",
   "execution_count": null,
   "id": "03abd1fe",
   "metadata": {},
   "outputs": [],
   "source": []
  }
 ],
 "metadata": {
  "kernelspec": {
   "display_name": "Python 3 (ipykernel)",
   "language": "python",
   "name": "python3"
  },
  "language_info": {
   "codemirror_mode": {
    "name": "ipython",
    "version": 3
   },
   "file_extension": ".py",
   "mimetype": "text/x-python",
   "name": "python",
   "nbconvert_exporter": "python",
   "pygments_lexer": "ipython3",
   "version": "3.9.13"
  }
 },
 "nbformat": 4,
 "nbformat_minor": 5
}
