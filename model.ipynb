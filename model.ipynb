{
 "cells": [
  {
   "cell_type": "code",
   "execution_count": 1,
   "metadata": {
    "id": "jF_8Xu_GxDNw"
   },
   "outputs": [],
   "source": [
    "# Import Packages\n",
    "import pandas as pd\n",
    "import matplotlib.pyplot as plt\n",
    "import seaborn as sns\n",
    "\n",
    "from sklearn.model_selection import train_test_split\n",
    "from sklearn.preprocessing import MinMaxScaler\n",
    "from sklearn.ensemble import RandomForestRegressor\n",
    "\n",
    "from sklearn.metrics import r2_score\n",
    "from sklearn.metrics import mean_squared_error\n",
    "from sklearn.metrics import mean_absolute_error\n",
    "from sklearn.metrics import median_absolute_error\n",
    "\n",
    "import pickle\n",
    "\n",
    "# Import Data Frame \n",
    "data = pd.read_csv('DATASET/220511_monatszahlenmonatszahlen2204_verkehrsunfaelle.csv')"
   ]
  },
  {
   "cell_type": "code",
   "execution_count": 2,
   "metadata": {},
   "outputs": [],
   "source": [
    "# Rename the columns we will be working on \n",
    "data = data.rename(columns = {\n",
    "    'MONATSZAHL' : 'Category',\n",
    "    'AUSPRAEGUNG': 'Accident_Type',\n",
    "    'JAHR'       : 'Year',\n",
    "    'MONAT'      : 'Month',\n",
    "    'WERT'       : 'Value',\n",
    "    'VORJAHRESWERT': 'Previous Year',\n",
    "    'VERAEND_VORMONAT_PROZENT':'Event_Prior_Month_Percent',\n",
    "    'VERAEND_VORJAHRESMONAT_PROZENT':'Event_Previous Month_Percentage',\n",
    "    'ZWOELF_MONATE_MITTELWERT':'Tweleve_Months_Average'\n",
    "})\n",
    "\n",
    "# Convert german to english\n",
    "data['Category'].replace(['Alkoholunfälle', 'Fluchtunfälle','Verkehrsunfälle'],['alcohol accidents','escape accidents','traffic accidents'], inplace=True)\n",
    "data['Accident_Type'].replace(['insgesamt' ,'Verletzte und Getötete', 'mit Personenschäden'],['all in all','injured and killed','with personal injury'], inplace=True)\n",
    "\n",
    "#Select only important columns\n",
    "features = ['Category', 'Accident_Type', 'Year', 'Month', 'Value']\n",
    "\n",
    "#Make the data only the important columns\n",
    "data = data[features]"
   ]
  },
  {
   "cell_type": "code",
   "execution_count": 3,
   "metadata": {},
   "outputs": [],
   "source": [
    "#Data visuailaization 1st "
   ]
  },
  {
   "cell_type": "code",
   "execution_count": 4,
   "metadata": {},
   "outputs": [],
   "source": [
    "# Remove null values\n",
    "data = data.dropna()\n",
    "\n",
    "# Remove the 'Summe' from Month column \n",
    "data = data[data['Month'] != 'Summe']"
   ]
  },
  {
   "cell_type": "code",
   "execution_count": 5,
   "metadata": {},
   "outputs": [],
   "source": [
    "# Get only month numbers in Month column\n",
    "data['Month'] = data['Month'].str[-2:]\n",
    "data['Month'] = data['Month'].astype(int)\n",
    "\n",
    "# Get data from 2010 to 2020\n",
    "data = data[data['Year'] < 2021]\n",
    "\n",
    "#Change the Categorical variable to numeric\n",
    "data['Category'].replace(['alcohol accidents' ,'escape accidents' ,'traffic accidents'],[0,1,2], inplace=True)\n",
    "data['Accident_Type'].replace(['all in all', 'injured and killed' ,'with personal injury'], [0,1,2], inplace=True)\n",
    "\n",
    "\n",
    "# Specify the features\n",
    "features = ['Category', 'Accident_Type', 'Year', 'Month']\n",
    "X = data[features]\n",
    "\n",
    "# Specify the prediction value\n",
    "Y = data.Value\n",
    "\n",
    "# Specify train and train data\n",
    "X_train, X_test, Y_train, Y_test = train_test_split(X, Y, train_size=0.8, test_size=0.2, random_state=0)"
   ]
  },
  {
   "cell_type": "code",
   "execution_count": 6,
   "metadata": {},
   "outputs": [],
   "source": [
    "#regressor = RandomForestRegression()\n",
    "regressor = RandomForestRegressor(n_estimators=53,random_state=0)\n",
    "\n",
    "# Fit the model with trined data\n",
    "regressor.fit(X_train.values,Y_train.values)\n",
    "\n",
    "# Save the model\n",
    "pickle.dump(regressor, open('model.pkl','wb'))"
   ]
  },
  {
   "cell_type": "code",
   "execution_count": 7,
   "metadata": {},
   "outputs": [
    {
     "name": "stdout",
     "output_type": "stream",
     "text": [
      "Random Forest :\n",
      "MAE : 53.26121118\n",
      "MSE : 12055.78870426\n",
      "RMSE : 109.79885566\n",
      "MedAE : 14.71698113\n",
      "R2 : 0.99161312\n"
     ]
    },
    {
     "name": "stderr",
     "output_type": "stream",
     "text": [
      "/opt/anaconda3/lib/python3.9/site-packages/sklearn/base.py:443: UserWarning: X has feature names, but RandomForestRegressor was fitted without feature names\n",
      "  warnings.warn(\n"
     ]
    }
   ],
   "source": [
    "# Results \n",
    "y_pred = regressor.predict(X_test)\n",
    "print(\"Random Forest :\")\n",
    "print(\"MAE : {:.8f}\".format(mean_absolute_error(y_pred, Y_test)))\n",
    "print(\"MSE : {:.8f}\".format(mean_squared_error(y_pred, Y_test)))\n",
    "print(\"RMSE : {:.8f}\".format(mean_squared_error(y_pred, Y_test,squared=False)))\n",
    "print(\"MedAE : {:.8f}\".format(median_absolute_error(y_pred, Y_test)))\n",
    "print(\"R2 : {:.8f}\".format(r2_score(y_pred, Y_test)))\n",
    "\n"
   ]
  },
  {
   "cell_type": "code",
   "execution_count": 9,
   "metadata": {},
   "outputs": [
    {
     "name": "stdout",
     "output_type": "stream",
     "text": [
      "Jan decison tree:  28\n",
      "\n",
      "Jan decison tree:  36\n",
      "\n",
      "Jan decison tree:  31\n",
      "\n",
      "Jan decison tree:  29\n",
      "\n",
      "Jan decison tree:  37\n",
      "\n",
      "Jan decison tree:  39\n",
      "\n",
      "Jan decison tree:  48\n",
      "\n",
      "Jan decison tree:  44\n",
      "\n",
      "Jan decison tree:  45\n",
      "\n",
      "Jan decison tree:  32\n",
      "\n",
      "Jan decison tree:  22\n",
      "\n",
      "Jan decison tree:  18\n",
      "\n",
      "Final for jan 2021:  413\n",
      "\n"
     ]
    }
   ],
   "source": [
    "#random forest for all 2021\n",
    "\n",
    "# test the output by for jan 0,0,2021,10\n",
    "y_pred_1 = regressor.predict([[0,0,2021,1]])\n",
    "y_pred_2 = regressor.predict([[0,0,2021,2]])\n",
    "y_pred_3 = regressor.predict([[0,0,2021,3]])\n",
    "y_pred_4 = regressor.predict([[0,0,2021,4]])\n",
    "y_pred_5 = regressor.predict([[0,0,2021,5]])\n",
    "y_pred_6 = regressor.predict([[0,0,2021,6]])\n",
    "y_pred_7 = regressor.predict([[0,0,2021,7]])\n",
    "y_pred_8 = regressor.predict([[0,0,2021,8]])\n",
    "y_pred_9 = regressor.predict([[0,0,2021,9]])\n",
    "y_pred_10 = regressor.predict([[0,0,2021,10]])\n",
    "y_pred_11 = regressor.predict([[0,0,2021,11]])\n",
    "y_pred_12 = regressor.predict([[0,0,2021,12]])\n",
    "y_pred_final = y_pred_1+y_pred_2+y_pred_3+y_pred_4+y_pred_5+y_pred_6+y_pred_7+y_pred_8+y_pred_9+y_pred_10+y_pred_11+y_pred_12\n",
    "\n",
    "\n",
    "\n",
    "print(\"Jan decison tree: % d\\n\"% y_pred_1)\n",
    "print(\"Jan decison tree: % d\\n\"% y_pred_2)\n",
    "print(\"Jan decison tree: % d\\n\"% y_pred_3)\n",
    "print(\"Jan decison tree: % d\\n\"% y_pred_4)\n",
    "print(\"Jan decison tree: % d\\n\"% y_pred_5)\n",
    "print(\"Jan decison tree: % d\\n\"% y_pred_6)\n",
    "print(\"Jan decison tree: % d\\n\"% y_pred_7)\n",
    "print(\"Jan decison tree: % d\\n\"% y_pred_8)\n",
    "print(\"Jan decison tree: % d\\n\"% y_pred_9)\n",
    "print(\"Jan decison tree: % d\\n\"% y_pred_10)\n",
    "print(\"Jan decison tree: % d\\n\"% y_pred_11)\n",
    "print(\"Jan decison tree: % d\\n\"% y_pred_12)\n",
    "print(\"Final for jan 2021: % d\\n\"% y_pred_final)\n",
    "\n",
    "# print the predicted price\n",
    "\n",
    "\n",
    "\n"
   ]
  },
  {
   "cell_type": "code",
   "execution_count": null,
   "metadata": {},
   "outputs": [],
   "source": [
    "#compare with actual data "
   ]
  },
  {
   "cell_type": "code",
   "execution_count": null,
   "metadata": {},
   "outputs": [],
   "source": []
  }
 ],
 "metadata": {
  "colab": {
   "collapsed_sections": [],
   "name": "DPS_AI (3).ipynb",
   "provenance": []
  },
  "interpreter": {
   "hash": "dafc184355dd83d76caba620be63c483589730f73cc92fab3a17ed41786ad43f"
  },
  "kernelspec": {
   "display_name": "Python 3 (ipykernel)",
   "language": "python",
   "name": "python3"
  },
  "language_info": {
   "codemirror_mode": {
    "name": "ipython",
    "version": 3
   },
   "file_extension": ".py",
   "mimetype": "text/x-python",
   "name": "python",
   "nbconvert_exporter": "python",
   "pygments_lexer": "ipython3",
   "version": "3.9.13"
  }
 },
 "nbformat": 4,
 "nbformat_minor": 1
}
